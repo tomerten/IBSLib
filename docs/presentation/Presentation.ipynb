{
 "cells": [
  {
   "cell_type": "markdown",
   "metadata": {
    "slideshow": {
     "slide_type": "slide"
    }
   },
   "source": [
    "# IBSLib"
   ]
  },
  {
   "cell_type": "markdown",
   "metadata": {
    "slideshow": {
     "slide_type": "subslide"
    }
   },
   "source": [
    "## Some Theory"
   ]
  },
  {
   "cell_type": "markdown",
   "metadata": {
    "slideshow": {
     "slide_type": "fragment"
    }
   },
   "source": [
    "\\begin{align}\n",
    "E^2 &= m^2c^4 + p^2c^2\\\\\n",
    "2EdE &= 2pc^2dp \\\\\n",
    "dE &= \\frac{pc^2}{E}dp \\\\\n",
    "&= \\frac{mvc^2}{E}dp\\\\\n",
    "&= vdp \\\\\n",
    "p &= mv \\\\\n",
    "&= m\\beta c \\\\\n",
    "&= \\frac{E}{c^2} \\beta c \\\\\n",
    "&= \\frac{\\beta E}{c}\\ \\Longrightarrow E = \\frac{pc}{\\beta}  \\label{i}  \\\\\n",
    "\\frac{dE}{E} &= \\frac{v }{E}dp \\\\\n",
    "&\\overset{(\\ref{i})}{=} \\frac{v \\beta}{pc}dp \\\\\n",
    "&= \\frac{dp}{p}\\beta^2\n",
    "\\end{align}"
   ]
  },
  {
   "cell_type": "markdown",
   "metadata": {
    "slideshow": {
     "slide_type": "fragment"
    }
   },
   "source": [
    "\\begin{align}\n",
    "\\frac{d\\sigma}{\\sigma} &= \\frac{d\\left(\\sqrt{\\beta\\epsilon}\\right)}{\\sqrt{\\beta\\epsilon}}\\\\\n",
    "\\alpha_{\\sigma} &= \\frac{1}{\\sigma}\\frac{d\\sigma}{dt} \\Longrightarrow \\sigma(t) = \\sigma_0e^{\\alpha_\\sigma t} \\\\\n",
    "\\alpha_{\\epsilon} &= \\frac{1}{\\epsilon}\\frac{d\\epsilon}{dt} \\Longrightarrow \\epsilon(t) = \\epsilon_0\\epsilon^{\\alpha_\\epsilon t} \\\\\n",
    "\\sigma(t) &= \\sqrt{\\beta\\epsilon(t)}\\\\\n",
    "\\beta\\epsilon_0\\epsilon^{\\alpha_\\epsilon t} &=\\left(\\sigma_0e^{\\alpha_\\sigma t} \\right)^2 \\Longrightarrow \\alpha_{\\epsilon} ={\\color{red}2}\\alpha_\\sigma\n",
    "\\end{align}"
   ]
  },
  {
   "cell_type": "code",
   "execution_count": 8,
   "metadata": {},
   "outputs": [
    {
     "data": {
      "text/plain": [
       "3.5449077018110318"
      ]
     },
     "execution_count": 8,
     "metadata": {},
     "output_type": "execute_result"
    }
   ],
   "source": [
    "import numpy as np\n",
    "(2*np.pi)**3 / (4*np.pi**(5./2.))"
   ]
  },
  {
   "cell_type": "code",
   "execution_count": 9,
   "metadata": {},
   "outputs": [
    {
     "data": {
      "text/plain": [
       "3.720075976020836e-44"
      ]
     },
     "execution_count": 9,
     "metadata": {},
     "output_type": "execute_result"
    }
   ],
   "source": [
    "np.exp(-100)"
   ]
  },
  {
   "cell_type": "code",
   "execution_count": null,
   "metadata": {},
   "outputs": [],
   "source": []
  }
 ],
 "metadata": {
  "celltoolbar": "Slideshow",
  "kernelspec": {
   "display_name": "Python [conda env:jnotebookenv]",
   "language": "python",
   "name": "conda-env-jnotebookenv-py"
  },
  "language_info": {
   "codemirror_mode": {
    "name": "ipython",
    "version": 3
   },
   "file_extension": ".py",
   "mimetype": "text/x-python",
   "name": "python",
   "nbconvert_exporter": "python",
   "pygments_lexer": "ipython3",
   "version": "3.8.5"
  },
  "latex_envs": {
   "LaTeX_envs_menu_present": true,
   "autoclose": false,
   "autocomplete": true,
   "bibliofile": "biblio.bib",
   "cite_by": "apalike",
   "current_citInitial": 1,
   "eqLabelWithNumbers": true,
   "eqNumInitial": 1,
   "hotkeys": {
    "equation": "Ctrl-E",
    "itemize": "Ctrl-I"
   },
   "labels_anchors": false,
   "latex_user_defs": false,
   "report_style_numbering": false,
   "user_envs_cfg": false
  },
  "toc": {
   "base_numbering": 1,
   "nav_menu": {},
   "number_sections": true,
   "sideBar": true,
   "skip_h1_title": false,
   "title_cell": "Table of Contents",
   "title_sidebar": "Contents",
   "toc_cell": false,
   "toc_position": {},
   "toc_section_display": true,
   "toc_window_display": false
  }
 },
 "nbformat": 4,
 "nbformat_minor": 4
}
